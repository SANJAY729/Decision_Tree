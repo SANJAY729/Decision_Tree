{
  "nbformat": 4,
  "nbformat_minor": 0,
  "metadata": {
    "colab": {
      "name": "allo.ipynb",
      "provenance": [],
      "collapsed_sections": []
    },
    "kernelspec": {
      "name": "python3",
      "display_name": "Python 3"
    }
  },
  "cells": [
    {
      "cell_type": "markdown",
      "metadata": {
        "id": "view-in-github"
      },
      "source": [
        "<a href=\"https://colab.research.google.com/github/SANJAY729/Decision_Tree/blob/master/allo.ipynb\" target=\"_parent\"><img src=\"https://colab.research.google.com/assets/colab-badge.svg\" alt=\"Open In Colab\"/></a>"
      ]
    },
    {
      "cell_type": "code",
      "metadata": {
        "id": "DBCiLs7wXbBP"
      },
      "source": [
        "import pandas as pd\n",
        "import numpy as np\n",
        "from pprint import pprint\n",
        "import matplotlib.pyplot as plt\n",
        "import copy"
      ],
      "execution_count": 33,
      "outputs": []
    },
    {
      "cell_type": "code",
      "metadata": {
        "id": "k3aitjxFhv7p"
      },
      "source": [
        "def entropy(target_col):\n",
        "    elements,counts = np.unique(target_col,return_counts = True)\n",
        "    entropy = np.sum([(-counts[i]/np.sum(counts))*np.log2(counts[i]/np.sum(counts)) for i in range(len(elements))])\n",
        "    return entropy\n",
        "\n",
        "\n",
        "def InfoGain(data,split_attribute_name,target_name=\"class\"):\n",
        "    total_entropy = entropy(data[target_name])\n",
        "    vals,counts= np.unique(data[split_attribute_name],return_counts=True)\n",
        "    Weighted_Entropy = np.sum([(counts[i]/np.sum(counts))*entropy(data.where(data[split_attribute_name]==vals[i]).dropna()[target_name]) for i in range(len(vals))])\n",
        "    Information_Gain = total_entropy - Weighted_Entropy\n",
        "    return Information_Gain\n",
        "\n",
        "\n",
        "def ID3(data,originaldata,features,max_depth,target_attribute_name=\"class\",parent_node_class = None):\n",
        "    if len(np.unique(data[target_attribute_name])) <= 1:\n",
        "        return np.unique(data[target_attribute_name])[0]\n",
        "    \n",
        "    elif len(data) == 0:\n",
        "        return np.unique(originaldata[target_attribute_name])[np.argmax(np.unique(originaldata[target_attribute_name],return_counts=True)[1])]\n",
        "    \n",
        "    elif len(features) == 0 or max_depth == 0:\n",
        "        return parent_node_class\n",
        "    \n",
        "    else:\n",
        "        parent_node_class = np.unique(data[target_attribute_name])[np.argmax(np.unique(data[target_attribute_name],return_counts=True)[1])]\n",
        "        item_values = [InfoGain(data,feature,target_attribute_name) for feature in features] \n",
        "        best_feature_index = np.argmax(item_values)\n",
        "        best_feature = features[best_feature_index]\n",
        "        tree = {best_feature:{},\"recurrence-events\":0,\"no-recurrence-events\":0}\n",
        "        features = [i for i in features if i != best_feature]\n",
        "        for value in np.unique(data[best_feature]):\n",
        "            value = value\n",
        "            sub_data = data.where(data[best_feature] == value).dropna()\n",
        "            subtree = ID3(sub_data,dataset,features,max_depth-1,target_attribute_name,parent_node_class)\n",
        "            tree[best_feature][value] = subtree\n",
        "        return(tree)    \n",
        "\n",
        "\n",
        "def predict(query,tree):\n",
        "    default = \"no-recurrence-events\"\n",
        "    if (tree[\"recurrence-events\"]>tree[\"no-recurrence-events\"]):\n",
        "        default = \"recurrence-events\"\n",
        "    for key in list(query.keys()):\n",
        "        if key in list(tree.keys()):\n",
        "            try:\n",
        "                result = tree[key][query[key]] \n",
        "            except:\n",
        "                return default\n",
        "            result = tree[key][query[key]]\n",
        "            if isinstance(result,dict):\n",
        "                return predict(query,result)\n",
        "            else:\n",
        "                return result\n",
        "\n",
        "def test(data,tree):\n",
        "    queries = data.iloc[:,1:].to_dict(orient = \"records\")\n",
        "    predicted = pd.DataFrame(columns=[\"predicted\"]) \n",
        "    for i in range(len(data)):\n",
        "        predicted.loc[i,\"predicted\"] = predict(queries[i],tree)\n",
        "    return (np.sum(predicted[\"predicted\"] == data[\"class\"])/len(data))*100\n",
        "    \n",
        "def majorityclassutil(query,tree):\n",
        "    if (query[\"class\"]==\"no-recurrence-events\"):\n",
        "        tree[\"no-recurrence-events\"] = tree[\"no-recurrence-events\"] + 1\n",
        "    else:\n",
        "        tree[\"recurrence-events\"] = tree[\"recurrence-events\"] + 1\n",
        "    for key in list(query.keys()):\n",
        "        if key in list(tree.keys()):\n",
        "            try:\n",
        "                result = tree[key][query[key]] \n",
        "            except:\n",
        "                return\n",
        "            result = tree[key][query[key]]\n",
        "            if isinstance(result,dict):\n",
        "                return majorityclassutil(query,result)\n",
        "            else:\n",
        "                return\n",
        "\n",
        "def majorityclasses(data,tree):\n",
        "     queries = data.iloc[:,:-1].to_dict(orient = \"records\")\n",
        "     for i in range(len(data)):\n",
        "        majorityclassutil(queries[i],tree)\n",
        "\n",
        "\n",
        "\n",
        "\n"
      ],
      "execution_count": 34,
      "outputs": []
    },
    {
      "cell_type": "code",
      "metadata": {
        "id": "6PANbgbMCUBZ"
      },
      "source": [
        "dataset_init = pd.read_csv('breast-cancer.csv',\n",
        "                      names=['class','age','menopause','tumor-size','inv-nodes','node-caps','def-malig','breast','breast-quad','irradiat'])\n",
        "# 1. class: no-recurrence-events, recurrence-events\n",
        "# 2. age: 10-19, 20-29, 30-39, 40-49, 50-59, 60-69, 70-79, 80-89, 90-99.\n",
        "# 3. menopause: lt40, ge40, premeno.\n",
        "# 4. tumor-size: 0-4, 5-9, 10-14, 15-19, 20-24, 25-29, 30-34, 35-39, 40-44, 45-49, 50-54, 55-59.\n",
        "# 5. inv-nodes: 0-2, 3-5, 6-8, 9-11, 12-14, 15-17, 18-20, 21-23, 24-26, 27-29, 30-32, 33-35, 36-39.\n",
        "# 6. node-caps: yes, no.\n",
        "# 7. deg-malig: 1, 2, 3.\n",
        "# 8. breast: left, right.\n",
        "# 9. breast-quad: left-up, left-low, right-up, right-low, central.\n",
        "# 10. irradiat: yes, no.\n",
        "\n",
        "dataset_ = dataset_init[dataset_init['node-caps']!='?']\n",
        "dataset = dataset_[dataset_['breast-quad']!='?']\n"
      ],
      "execution_count": 35,
      "outputs": []
    },
    {
      "cell_type": "code",
      "metadata": {
        "id": "2j9scP8RCbVe"
      },
      "source": [
        "def train_validation_test_split(dataset):\n",
        "    training_data = dataset.iloc[:180].reset_index(drop=True)\n",
        "    validation_data = dataset.iloc[180:230].reset_index(drop=True)\n",
        "    testing_data = dataset.iloc[230:].reset_index(drop=True)\n",
        "    return training_data,validation_data,testing_data"
      ],
      "execution_count": 36,
      "outputs": []
    },
    {
      "cell_type": "code",
      "metadata": {
        "id": "BV_HEJzxhlg9",
        "outputId": "5a093381-c8a3-4c7d-fd54-828e77995e1d",
        "colab": {
          "base_uri": "https://localhost:8080/",
          "height": 51
        }
      },
      "source": [
        "#QUESTION 1 \n",
        "###################################################\n",
        "max_depth = int(input(\"Enter the maximum depth : \"))\n",
        "accuracy = 0\n",
        "for i in range (1,11):\n",
        "    shuffled_data = copy.deepcopy(dataset[1:])\n",
        "    shuffled_data = shuffled_data.sample(frac=1, random_state = i).reset_index(drop=True)\n",
        "    training_data,validation_data,testing_data = train_validation_test_split(shuffled_data)\n",
        "    tree = ID3(training_data,training_data,training_data.columns[1:],i)\n",
        "    majorityclasses(training_data,tree)\n",
        "    accuracy = accuracy + test(testing_data,tree)\n",
        "print(\"The average accuracy over 10 different splits is \",accuracy/10)"
      ],
      "execution_count": 37,
      "outputs": [
        {
          "output_type": "stream",
          "text": [
            "Enter the maximum depth : 5\n",
            "The average accuracy over 10 different splits is  69.78260869565217\n"
          ],
          "name": "stdout"
        }
      ]
    },
    {
      "cell_type": "code",
      "metadata": {
        "id": "5-uPcELuCG4Z",
        "outputId": "64a3c7c3-6bf4-4a65-ad32-014d36db487a",
        "colab": {
          "base_uri": "https://localhost:8080/",
          "height": 296
        }
      },
      "source": [
        "x = [1,2,3,4,5,6,7,8,9]\n",
        "y = []\n",
        "for i in range (1,10):\n",
        "    accuracy = 0\n",
        "    for j in range(1,11):\n",
        "        shuffled_data = copy.deepcopy(dataset[1:])\n",
        "        shuffled_data = shuffled_data.sample(frac=1, random_state = i).reset_index(drop=True)\n",
        "        training_data,validation_data,testing_data=train_validation_test_split(shuffled_data)\n",
        "        tree = ID3(training_data,training_data,training_data.columns[1:],i)\n",
        "        majorityclasses(training_data,tree)\n",
        "        accuracy = accuracy + test(testing_data,tree)\n",
        "    y.append(accuracy/10)\n",
        "plt.plot(x,y)\n",
        "plt.ylabel('Accuracy')\n",
        "plt.xlabel('Max Depth')\n",
        "plt.show\n"
      ],
      "execution_count": 38,
      "outputs": [
        {
          "output_type": "execute_result",
          "data": {
            "text/plain": [
              "<function matplotlib.pyplot.show>"
            ]
          },
          "metadata": {
            "tags": []
          },
          "execution_count": 38
        },
        {
          "output_type": "display_data",
          "data": {
            "image/png": "[encoded data removed]",
            "text/plain": [
              "<Figure size 432x288 with 1 Axes>"
            ]
          },
          "metadata": {
            "tags": [],
            "needs_background": "light"
          }
        }
      ]
    },
    {
      "cell_type": "code",
      "metadata": {
        "id": "7QYubA4imTQQ"
      },
      "source": [
        "def possiblevalues(keys):\n",
        "    feature = \"\"\n",
        "    values = []\n",
        "    for key in keys:\n",
        "        if (key == 'no-recurrence-events'):\n",
        "            continue\n",
        "        elif (key == 'recurrence-events'):\n",
        "            continue\n",
        "        else :\n",
        "            feature = key\n",
        "            if (feature == 'age'):\n",
        "                values = ['10-19', '20-29', '30-39', '40-49', '50-59', '60-69', '70-79', '80-89', '90-99']\n",
        "            if (feature == 'menopause'):\n",
        "                values = ['lt40', 'ge40', 'premeno']\n",
        "            if (feature == 'tumor-size'):\n",
        "                values = ['0-4', '5-9', '10-14', '15-19', '20-24', '25-29', '30-34', '35-39', '40-44', '45-49', '50-54', '55-59']\n",
        "            if (feature == 'inv-nodes'):\n",
        "                values = ['0-2', '3-5', '6-8', '9-11', '12-14', '15-17', '18-20', '21-23', '24-26', '27-29', '30-32', '33-35', '36-39']\n",
        "            if (feature == 'node-caps'):\n",
        "                values = ['yes', 'no']\n",
        "            if (feature == 'deg-malig'):\n",
        "                values = ['1', '2', '3']\n",
        "            if (feature == 'breast'):\n",
        "                values = ['left', 'right']\n",
        "            if (feature == 'breast-quad'):\n",
        "                values = ['left-up', 'left-low', 'right-up', 'right-low', 'central']\n",
        "            if (feature == 'irradiat'):\n",
        "                values = ['yes', 'no']            \n",
        "    return feature,values\n",
        "\n",
        "def skip():\n",
        "  return\n",
        "def delete_node(tree,node,target):\n",
        "    if (node==tree):\n",
        "        return target\n",
        "    else:\n",
        "        if isinstance(tree, dict):\n",
        "            feature, values = possiblevalues(tree.keys())\n",
        "            for value in values:\n",
        "                try:\n",
        "                    tree[feature][value] = copy.deepcopy(delete_node(tree[feature][value],node,target))\n",
        "                except:\n",
        "                    skip()\n",
        "    return tree\n",
        "def prune_singlenode(tree,initial_accuracy,validation_data):\n",
        "    initial_tree = copy.deepcopy(tree)\n",
        "    best_tree = copy.deepcopy(tree)\n",
        "    current_tree = copy.deepcopy(tree)\n",
        "    best_accuracy = initial_accuracy\n",
        "    flag = 0\n",
        "    queue = []\n",
        "    node_removed=None\n",
        "    queue.append(tree)\n",
        "    while queue!=[]:\n",
        "        node = queue.pop(0)\n",
        "        if isinstance(node, dict):\n",
        "            feature, values = possiblevalues(node.keys())\n",
        "            for value in values:\n",
        "                try:\n",
        "                    queue.append(node[feature][value])\n",
        "                    \n",
        "                except:\n",
        "                    skip()\n",
        "            if node==initial_tree :\n",
        "                continue\n",
        "            \n",
        "            if node['no-recurrence-events']>node['recurrence-events']:\n",
        "                current_tree=copy.deepcopy(delete_node(initial_tree,node,'no-recurrence-events'))\n",
        "            else :\n",
        "                current_tree=copy.deepcopy(delete_node(initial_tree,node,'recurrence-events'))\n",
        "            initial_tree = copy.deepcopy(tree)\n",
        "            #print(current_tree)\n",
        "            current_accuracy = test(validation_data,current_tree)\n",
        "            if current_accuracy>best_accuracy:\n",
        "                flag = 1\n",
        "                best_tree = copy.deepcopy(current_tree)\n",
        "                node_removed = node\n",
        "                best_accuracy = current_accuracy    \n",
        "    return best_tree,best_accuracy,flag"
      ],
      "execution_count": 39,
      "outputs": []
    },
    {
      "cell_type": "code",
      "metadata": {
        "id": "a_xtL_vSwZMp",
        "outputId": "beff865e-5c36-430e-ea20-9304a6dd67f9",
        "colab": {
          "base_uri": "https://localhost:8080/",
          "height": 153
        }
      },
      "source": [
        "max_depth  = 3 #from the graph\n",
        "dataset = dataset.sample(frac=1).reset_index(drop=True)\n",
        "training_data,validation_data,testing_data = train_validation_test_split(dataset)\n",
        "tree = ID3(training_data,training_data,training_data.columns[1:],max_depth)\n",
        "majorityclasses(training_data,tree)\n",
        "\n",
        "initial_accuracy_validation = test(validation_data,tree)\n",
        "initial_accuracy_test = test(testing_data,tree)\n",
        "\n",
        "ini_tree=copy.deepcopy(tree)\n",
        "\n",
        "new_tree,new_accuracy,flag = prune_singlenode(tree,initial_accuracy_validation,validation_data)\n",
        "while (flag==1):\n",
        "    new_tree,new_accuracy,flag = prune_singlenode(new_tree,new_accuracy,validation_data)\n",
        "\n",
        "final_accuracy_validation = test(validation_data,new_tree)\n",
        "final_accuracy_test = test(testing_data,new_tree)\n",
        "print(initial_accuracy_validation)\n",
        "print(initial_accuracy_test)\n",
        "print(final_accuracy_validation)\n",
        "print(final_accuracy_test)"
      ],
      "execution_count": 40,
      "outputs": [
        {
          "output_type": "stream",
          "text": [
            "hello\n",
            "hello\n",
            "hello\n",
            "hello\n",
            "68.0\n",
            "63.829787234042556\n",
            "74.0\n",
            "61.702127659574465\n"
          ],
          "name": "stdout"
        }
      ]
    }
  ]
}